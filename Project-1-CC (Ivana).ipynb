{
 "cells": [
  {
   "cell_type": "markdown",
   "metadata": {},
   "source": [
    "<img src=\"http://imgur.com/1ZcRyrc.png\" style=\"float: left; margin: 20px; height: 55px\">\n",
    "\n",
    "# Project 1: Python Coding Exercises\n",
    "\n",
    "_Authors: Joseph Nelson (DC) _\n",
    "\n",
    "---"
   ]
  },
  {
   "cell_type": "markdown",
   "metadata": {},
   "source": [
    "The following code challenges are drawn from common exercises used in technical interviews.\n",
    "\n",
    "Note that there may be several ways to approach each challenge!"
   ]
  },
  {
   "cell_type": "markdown",
   "metadata": {},
   "source": [
    "### Challenge 1.1: Largest Palindrome\n",
    "A palindromic number reads the same both ways. For example, 1234321 is a palindrome. The largest palindrome made from the product of two two-digit numbers is 9009 = 91 × 99. Find the largest palindrome made from the product of two three-digit numbers."
   ]
  },
  {
   "cell_type": "code",
   "execution_count": 1,
   "metadata": {},
   "outputs": [
    {
     "name": "stdout",
     "output_type": "stream",
     "text": [
      "There are 2470 palindromes from the product of 2 three-digit numbers\n",
      "Largest palindrome: 993 x 913 = 906609\n"
     ]
    }
   ],
   "source": [
    "#three digit strats from 100 to 999\n",
    "\n",
    "palindrome=[]\n",
    "digit=[]\n",
    "\n",
    "for a in range (100,1000):\n",
    "    for b in range (1,901):\n",
    "        total=a*(1000-b)\n",
    "        total=str(total)\n",
    "    \n",
    "        #checking for palindrom\n",
    "        count=0\n",
    "        for i in range (int(len(total)/2)):\n",
    "            if total[i]==total[-(i+1)]:\n",
    "                count+=1\n",
    "        \n",
    "        if count==3 or (count ==2 and len(total) ==5):\n",
    "            palindrome.append(int(total))\n",
    "            digit.append((a,(1000-b)))\n",
    "\n",
    "max_value=max(palindrome)\n",
    "max_index=0\n",
    "\n",
    "for x,y in enumerate(palindrome):\n",
    "    if y==max_value:\n",
    "        max_index=x\n",
    "        \n",
    "print (\"There are \" + str(len(palindrome)) +\" palindromes from the product of 2 three-digit numbers\")\n",
    "                              \n",
    "print (\"Largest palindrome: \"+ str(digit[max_index][0]) +\" x \"+str(digit[max_index][1])+\" = \"+ str(max_value))\n"
   ]
  },
  {
   "cell_type": "markdown",
   "metadata": {},
   "source": [
    "\n",
    "### Challenge 1.2: Summation of Primes\n",
    "The sum of the primes below 10 is 2 + 3 + 5 + 7 = 17. Find the sum of all the primes below 2,000."
   ]
  },
  {
   "cell_type": "code",
   "execution_count": 2,
   "metadata": {},
   "outputs": [
    {
     "name": "stdout",
     "output_type": "stream",
     "text": [
      "The sum of the primes below 2000 is 277050\n"
     ]
    }
   ],
   "source": [
    "prime_number=[]\n",
    "\n",
    "for i in range(2,2000):\n",
    "    isprime=True\n",
    "    for y in prime_number:\n",
    "        if i% y==0:\n",
    "            isprime=False\n",
    "    if isprime==True:\n",
    "        prime_number.append(i)\n",
    "\n",
    "\n",
    "print(\"The sum of the primes below 2000 is {}\".format(sum(prime_number)))    "
   ]
  },
  {
   "cell_type": "markdown",
   "metadata": {},
   "source": [
    "### Challenge 1.3: Multiples of 3 and 5\n",
    "If we list all of the natural numbers below 10 that are multiples of 3 or 5, we get 3, 5, 6, and 9. The sum of these multiples is 23. Find the sum of all the multiples of 3 and 5 below 1,000."
   ]
  },
  {
   "cell_type": "code",
   "execution_count": 3,
   "metadata": {},
   "outputs": [
    {
     "name": "stdout",
     "output_type": "stream",
     "text": [
      "Sum of all the multiples of 3 and 5 below 1,000: 233168\n"
     ]
    }
   ],
   "source": [
    "multiple=[]\n",
    "for i in range(1,1000):\n",
    "    if i%3==0 or i%5==0:\n",
    "        multiple.append(i)\n",
    "\n",
    "print (\"Sum of all the multiples of 3 and 5 below 1,000: \" + str(sum(multiple)))\n",
    "    "
   ]
  },
  {
   "cell_type": "markdown",
   "metadata": {},
   "source": [
    "### Challenge 2: FizzBuzz\n",
    "Write a program that prints all of the numbers from 1 to 100. For multiples of 3, instead of the number, print \"Fizz;\" for multiples of 5, print \"Buzz.\" For numbers that are multiples of both 3 and 5, print \"FizzBuzz.\" Bonus: If that's too easy, create three unique solutions. Sometimes you'll encounter unexpected constraints, so make sure you're able to think creatively!"
   ]
  },
  {
   "cell_type": "code",
   "execution_count": 4,
   "metadata": {},
   "outputs": [
    {
     "name": "stdout",
     "output_type": "stream",
     "text": [
      "1\n",
      "2\n",
      "Fizz\n",
      "4\n",
      "Buzz\n",
      "Fizz\n",
      "7\n",
      "8\n",
      "Fizz\n",
      "Buzz\n",
      "11\n",
      "Fizz\n",
      "13\n",
      "14\n",
      "FizzBuzz\n",
      "16\n",
      "17\n",
      "Fizz\n",
      "19\n",
      "Buzz\n",
      "Fizz\n",
      "22\n",
      "23\n",
      "Fizz\n",
      "Buzz\n",
      "26\n",
      "Fizz\n",
      "28\n",
      "29\n",
      "FizzBuzz\n",
      "31\n",
      "32\n",
      "Fizz\n",
      "34\n",
      "Buzz\n",
      "Fizz\n",
      "37\n",
      "38\n",
      "Fizz\n",
      "Buzz\n",
      "41\n",
      "Fizz\n",
      "43\n",
      "44\n",
      "FizzBuzz\n",
      "46\n",
      "47\n",
      "Fizz\n",
      "49\n",
      "Buzz\n",
      "Fizz\n",
      "52\n",
      "53\n",
      "Fizz\n",
      "Buzz\n",
      "56\n",
      "Fizz\n",
      "58\n",
      "59\n",
      "FizzBuzz\n",
      "61\n",
      "62\n",
      "Fizz\n",
      "64\n",
      "Buzz\n",
      "Fizz\n",
      "67\n",
      "68\n",
      "Fizz\n",
      "Buzz\n",
      "71\n",
      "Fizz\n",
      "73\n",
      "74\n",
      "FizzBuzz\n",
      "76\n",
      "77\n",
      "Fizz\n",
      "79\n",
      "Buzz\n",
      "Fizz\n",
      "82\n",
      "83\n",
      "Fizz\n",
      "Buzz\n",
      "86\n",
      "Fizz\n",
      "88\n",
      "89\n",
      "FizzBuzz\n",
      "91\n",
      "92\n",
      "Fizz\n",
      "94\n",
      "Buzz\n",
      "Fizz\n",
      "97\n",
      "98\n",
      "Fizz\n"
     ]
    }
   ],
   "source": [
    "#Solution 1\n",
    "for i in range(1,100):\n",
    "    if i%3==0 and i%5==0:\n",
    "        print(\"FizzBuzz\")\n",
    "    elif i%3==0:\n",
    "        print(\"Fizz\")\n",
    "    elif i%5==0:\n",
    "        print(\"Buzz\")\n",
    "    else:\n",
    "        print(i)"
   ]
  },
  {
   "cell_type": "code",
   "execution_count": 5,
   "metadata": {},
   "outputs": [
    {
     "name": "stdout",
     "output_type": "stream",
     "text": [
      "1\n",
      "2\n",
      "Fizz\n",
      "4\n",
      "Buzz\n",
      "Fizz\n",
      "7\n",
      "8\n",
      "Fizz\n",
      "Buzz\n",
      "11\n",
      "Fizz\n",
      "13\n",
      "14\n",
      "FizzBuzz\n",
      "16\n",
      "17\n",
      "Fizz\n",
      "19\n",
      "Buzz\n",
      "Fizz\n",
      "22\n",
      "23\n",
      "Fizz\n",
      "Buzz\n",
      "26\n",
      "Fizz\n",
      "28\n",
      "29\n",
      "FizzBuzz\n",
      "31\n",
      "32\n",
      "Fizz\n",
      "34\n",
      "Buzz\n",
      "Fizz\n",
      "37\n",
      "38\n",
      "Fizz\n",
      "Buzz\n",
      "41\n",
      "Fizz\n",
      "43\n",
      "44\n",
      "FizzBuzz\n",
      "46\n",
      "47\n",
      "Fizz\n",
      "49\n",
      "Buzz\n",
      "Fizz\n",
      "52\n",
      "53\n",
      "Fizz\n",
      "Buzz\n",
      "56\n",
      "Fizz\n",
      "58\n",
      "59\n",
      "FizzBuzz\n",
      "61\n",
      "62\n",
      "Fizz\n",
      "64\n",
      "Buzz\n",
      "Fizz\n",
      "67\n",
      "68\n",
      "Fizz\n",
      "Buzz\n",
      "71\n",
      "Fizz\n",
      "73\n",
      "74\n",
      "FizzBuzz\n",
      "76\n",
      "77\n",
      "Fizz\n",
      "79\n",
      "Buzz\n",
      "Fizz\n",
      "82\n",
      "83\n",
      "Fizz\n",
      "Buzz\n",
      "86\n",
      "Fizz\n",
      "88\n",
      "89\n",
      "FizzBuzz\n",
      "91\n",
      "92\n",
      "Fizz\n",
      "94\n",
      "Buzz\n",
      "Fizz\n",
      "97\n",
      "98\n",
      "Fizz\n"
     ]
    }
   ],
   "source": [
    "#Solution 2\n",
    "for i in range(1,100):\n",
    "    s = \"\"\n",
    "    if i%3==0:\n",
    "        s += \"Fizz\"\n",
    "    if i%5==0:\n",
    "        s += \"Buzz\"\n",
    "    if i % 3 != 0 and i % 5 != 0:\n",
    "        s = str(i)\n",
    "    print(s)"
   ]
  },
  {
   "cell_type": "markdown",
   "metadata": {},
   "source": [
    "### Challenge 3: String Compressor\n",
    "Implement a method to perform basic string compression using the counts of repeated characters. (This is called run-length encoding.) For example, the string \"aabcccccaaa\" would become a2b1c5a3. If the “compressed” string would not become smaller than the original string, your method should return the original string. You can assume the string has only uppercase and lowercase letters (a–z). Specify whether your solution is case sensitive or case insensitive and what you would need to change to make it the other."
   ]
  },
  {
   "cell_type": "code",
   "execution_count": 6,
   "metadata": {},
   "outputs": [
    {
     "name": "stdout",
     "output_type": "stream",
     "text": [
      "aabcccccaaa has been compressed to: a2b1c5a3\n"
     ]
    }
   ],
   "source": [
    "#Solution 1\n",
    "count=1\n",
    "char=[]\n",
    "short_string = \"\"\n",
    "long_string = \"aabcccccaaa\"\n",
    "\n",
    "for idx,i in enumerate(long_string):\n",
    "    if i!=char:\n",
    "        char=i\n",
    "        if idx > 0: short_string+=str(count)\n",
    "        short_string=short_string+char\n",
    "        count=1\n",
    "        #shortened_word=shortened_word+char\n",
    "    elif i==char:\n",
    "        count+=1\n",
    "        if idx  == len(long_string)-1: short_string+=str(count)\n",
    "        \n",
    "print (long_string + \" has been compressed to: \" + short_string)"
   ]
  },
  {
   "cell_type": "code",
   "execution_count": 7,
   "metadata": {},
   "outputs": [
    {
     "name": "stdout",
     "output_type": "stream",
     "text": [
      "aabcccccaaa  has been compressed to: a2b1c5a3\n"
     ]
    }
   ],
   "source": [
    "#Solution 2\n",
    "count=0\n",
    "char=[]\n",
    "short_string = \"\"\n",
    "long_string = \"aabcccccaaa\" + \" \" #add a space at the back to handle case where the string ends with repeated char\n",
    "putnumber=False\n",
    "\n",
    "for i in long_string:\n",
    "    if i!=char:\n",
    "        short_string += str(count)        \n",
    "        char=i\n",
    "        count=1\n",
    "        short_string += char \n",
    "    elif i==char:\n",
    "        putnumber=False\n",
    "        count+=1\n",
    "short_string = short_string[1:-1]\n",
    "print (long_string + \" has been compressed to: \" + short_string)"
   ]
  },
  {
   "cell_type": "code",
   "execution_count": null,
   "metadata": {
    "collapsed": true
   },
   "outputs": [],
   "source": []
  }
 ],
 "metadata": {
  "anaconda-cloud": {},
  "kernelspec": {
   "display_name": "Python 3",
   "language": "python",
   "name": "python3"
  },
  "language_info": {
   "codemirror_mode": {
    "name": "ipython",
    "version": 3
   },
   "file_extension": ".py",
   "mimetype": "text/x-python",
   "name": "python",
   "nbconvert_exporter": "python",
   "pygments_lexer": "ipython3",
   "version": "3.6.2"
  }
 },
 "nbformat": 4,
 "nbformat_minor": 2
}
